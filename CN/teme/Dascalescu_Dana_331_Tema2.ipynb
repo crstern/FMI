{
 "cells": [
  {
   "cell_type": "markdown",
   "metadata": {},
   "source": [
    "## Metode numerice de rezolvare a sistemelor liniare"
   ]
  },
  {
   "cell_type": "markdown",
   "metadata": {},
   "source": [
    "1. Să se verifice dacă sistemul (1) admite soluție unică și în caz afirmativ să se determine soluția folosind metoda Gauss cu pivotare totală."
   ]
  },
  {
   "cell_type": "markdown",
   "metadata": {},
   "source": [
    "&emsp;&emsp;&emsp;&emsp;&emsp;&emsp;&emsp;&emsp;&emsp;&emsp;&emsp;&emsp;&emsp;&emsp;&emsp;&emsp;&emsp;&emsp;&emsp;&emsp;&emsp;&emsp;&emsp; \n",
    "$ \\begin{bmatrix} 0 & 3 & -1 & 0 \\\\ -1 & 8 & -1 & -2 \\\\ -4 & -10 & 9 & 3 \\\\ -4 & 5 & -8 & -10 \\end{bmatrix} x  = \\begin{bmatrix} 3 \\\\ 4 \\\\ 15 \\\\ -58 \\end{bmatrix}$ &emsp; &emsp; &emsp; &emsp; &emsp; &emsp; &emsp; &emsp; &emsp;&emsp;  $(1)$"
   ]
  },
  {
   "cell_type": "markdown",
   "metadata": {},
   "source": [
    "&emsp; &ensp;  Sistemul pătratic adminte soluție unică dacă și numai dacă determinantul matricei asociat sistemului este nenul."
   ]
  },
  {
   "cell_type": "code",
   "execution_count": 11,
   "metadata": {
    "scrolled": true
   },
   "outputs": [
    {
     "name": "stdout",
     "output_type": "stream",
     "text": [
      "x = \n",
      "[[1.]\n",
      " [2.]\n",
      " [3.]\n",
      " [4.]]\n",
      "A @ x = \n",
      " [[  3.]\n",
      " [  4.]\n",
      " [ 15.]\n",
      " [-58.]]\n"
     ]
    }
   ],
   "source": [
    "import numpy as np\n",
    "\n",
    "A = np.array([[0., 3., -1., 0.], [-1., 8., -1., -2.], [-4., -10., 9., 3.], [-4., 5., -8., -10.]], dtype = np.float64)\n",
    "b = np.array([[3., 4., 15., -58.]], dtype = np.float64).T\n",
    "x = np.array([[0., 0., 0., 0.]], dtype = np.float64).T\n",
    "\n",
    "n = A.shape[0]\n",
    "\n",
    "# Verificam daca sistemul are solutii\n",
    "if abs(np.linalg.det(A)) < 1e-5:\n",
    "    print(\"Determinantul matricei este null, prin urmare sistemul este incompatibil sau compatibil nedeterminat!\")\n",
    "else:\n",
    "    # Aplicam metoda Gauss cu pivotare totala\n",
    "    indices = np.arange(0, n)\n",
    "    A_extins = np.concatenate((A, b), axis = 1)\n",
    "\n",
    "    \"\"\" \n",
    "        La fiecare pas al algoritmului alegem ca pivot elementul cu valoarea absoluta cea mai mare din submatricea\n",
    "        A_extins[k:, k:n], unde A_extins este matricea extinsa asociata sistemului\n",
    "    \"\"\"    \n",
    "    for k in range(0, n - 1):\n",
    "        submatrice = A_extins[k:, k:n-1]\n",
    "        (p, m) = np.unravel_index(submatrice.argmax(), submatrice.shape)\n",
    "        p, m = p + k, m + k\n",
    "\n",
    "        # Daca p != k atunci interschimbam liniile p si k, iar daca m != k interschimbam coloanele m si k\n",
    "        A_extins[[p,k]] = A_extins[[k,p]]\n",
    "        A_extins[:, [k, m]] = A_extins[:, [m, k]]\n",
    "        # Schimbam indicii necunoscutelor\n",
    "        indices[[k, m]] = indices[[m, k]]\n",
    "\n",
    "        for l in range(k + 1, n):\n",
    "            A_extins[l] = A_extins[l] - (A_extins[l][k] / A_extins[k][k]) * A_extins[k]\n",
    "\n",
    "\n",
    "    U = np.copy(A_extins[0:n])\n",
    "    U = np.delete(U, n, axis = 1)\n",
    "    C = A_extins[:,n]\n",
    "    \n",
    "     \n",
    "    \"\"\"\n",
    "        Mergem de la ultima linie catre prima, rezolvand sistemul prin substitutie (Metoda substitutiei descendente)\n",
    "    \"\"\"\n",
    "    for i in range(n-1, -1, -1):\n",
    "        x[i] = (C[i] - np.dot(U[i,i+1:], x[i+1:])) / U[i][i]\n",
    "\n",
    "    # La interschimbarea a doua coloane se schimba ordinea necunoscutelor in vectorul x\n",
    "    x = x[indices]\n",
    "    \n",
    "    print('x = ')\n",
    "    print(x)\n",
    "    print('A @ x = \\n', A @ x )"
   ]
  },
  {
   "cell_type": "markdown",
   "metadata": {},
   "source": [
    "2. Verificați dacă matricea B este inversabilă și în caz afirmativ aplicați metoda Gauss pentru determinarea inversei."
   ]
  },
  {
   "cell_type": "markdown",
   "metadata": {},
   "source": [
    "&emsp;&emsp;&emsp;&emsp;&emsp;&emsp;&emsp;&emsp;&emsp;&emsp;&emsp;&emsp;&emsp;&emsp;&emsp;&emsp;&emsp;&emsp;&emsp;&emsp;&emsp;&emsp;&emsp;&emsp;&emsp;\n",
    " $ B = \\begin{bmatrix} 0 & 4 & 6 & 9 \\\\ 6 & 4 & 9 & 9 \\\\ -4 & 3 & -6 & 9 \\\\ -10 & 7 & -8 & 1 \\end{bmatrix} $ &emsp; &emsp; &emsp; &emsp; &emsp; &emsp; &emsp; &emsp; &emsp; &emsp; &emsp; &emsp; &emsp; &emsp; $ (2) $"
   ]
  },
  {
   "cell_type": "markdown",
   "metadata": {},
   "source": [
    "&emsp; &ensp; Matricea B este inversabilă dacă și numai dacă este o matrice nesingulară, adică determinantul său este nenul. Pentru a calcula determinantul matricei B putem folosi metoda Gauss cu pivotare totală."
   ]
  },
  {
   "cell_type": "code",
   "execution_count": 12,
   "metadata": {},
   "outputs": [
    {
     "name": "stdout",
     "output_type": "stream",
     "text": [
      "Determinantul matricei obtinut folosind Gauss cu pivotare totala:  -3738.0000000000005\n",
      "Determinantul matricei folosind np.linalg.det:  -3737.999999999998\n"
     ]
    }
   ],
   "source": [
    "import numpy as np\n",
    "\n",
    "# Aplicatii ale metodei Gauss --- Calcularea determinantului unei matrice\n",
    "B = np.array([[0., 4., 6., 9.], [6. , 4., 9., 9.], [-4., 3., -6., 9.], [-10., 7, -8, 1]])\n",
    "n = A.shape[0]\n",
    "x = np.zeros(A.shape)\n",
    "I = np.identity(n, dtype=float)\n",
    "\n",
    "# Aplicam metoda Gauss cu pivotare totala\n",
    "indices = np.arange(0, n)\n",
    "B_extins = np.concatenate((B, I), axis = 1)\n",
    "s = 0 # numarul de schimbari de linii\n",
    "\n",
    "for k in range(0, n - 1):\n",
    "    submatrice = B_extins[k:, k:n-1]\n",
    "    (p, m) = np.unravel_index(submatrice.argmax(), submatrice.shape)\n",
    "    p, m = p + k, m + k\n",
    "    \n",
    "    if p != k:\n",
    "        s += 1\n",
    "    \n",
    "    if m != k:\n",
    "        s += 1\n",
    "\n",
    "    # Daca p != k atunci interschimbam liniile p si k, iar daca m != k interschimbam coloanele m si k\n",
    "    B_extins[[p,k]] = B_extins[[k,p]]\n",
    "    B_extins[:, [k, m]] = B_extins[:, [m, k]]\n",
    "    # Schimbam indicii necunoscutelor\n",
    "    indices[m], indices[k] = indices[k], indices[m]\n",
    "\n",
    "    for l in range(k + 1, n):\n",
    "        B_extins[l] = B_extins[l] - (B_extins[l][k] / B_extins[k][k]) * B_extins[k]\n",
    "\n",
    "        \n",
    "U = np.copy(B_extins[0:n])\n",
    "\n",
    "determinant = 1.\n",
    "for i in range(n):\n",
    "    determinant *= U[i][i]\n",
    "\n",
    "\"\"\"\n",
    "    Daca intr-o matrice patratica se schimba intre ele doua linii(sau coloane) se obtine o matrice care are\n",
    "    determinantul egal cu opusul determinantului matricei initiale\n",
    "\"\"\"\n",
    "determinant = (-1)**s * determinant\n",
    "print('Determinantul matricei obtinut folosind Gauss cu pivotare totala: ', determinant)\n",
    "print('Determinantul matricei folosind np.linalg.det: ', np.linalg.det(B))"
   ]
  },
  {
   "cell_type": "markdown",
   "metadata": {},
   "source": [
    "&emsp; Inversa matricei $ B^{-1} $ verifică relația:\n",
    "    $$ B^{-1} B = B B^{-1} = I_n $$"
   ]
  },
  {
   "cell_type": "markdown",
   "metadata": {},
   "source": [
    "&emsp; Fie $ x^{k} \\in \\mathbb{R}^{n}, k \\in [1,n] $ coloana k a matricei $ B^{-1} $. De asemenea, fie $ e^{k} \\in \\mathbb{R}^{n}, e^{k} = (0,...,1...,0)^{T} $, cu 1 pe pozitita k, coloana k din matricea $I_n.$ Atunci "
   ]
  },
  {
   "cell_type": "markdown",
   "metadata": {},
   "source": [
    "&emsp; &emsp; &emsp; &emsp; &emsp; &emsp; &emsp; &emsp; &emsp; &emsp; &emsp; &emsp; &emsp; &emsp; &emsp; &emsp; &emsp; &emsp; &emsp;  &emsp; $ B B^{-1} = I_n \\Leftrightarrow A x^{k} = e^{k} $ &emsp;, $k = \\overline{1,n} $"
   ]
  },
  {
   "cell_type": "markdown",
   "metadata": {},
   "source": [
    "&emsp; Pentru a rezolva simultan cele n sisteme liniare în care vectorii necunoscutelor sunt coloanele inversei, considerăm drept matrice extinsă, matricea formată din matricea B la care se adaugă cele n coloane ale matricei $ I_n $ si calculăm necunoscutele conform unei metode de pivotare, fie de exemplu, metoda _Gauss cu pivotare parțială_."
   ]
  },
  {
   "cell_type": "code",
   "execution_count": 16,
   "metadata": {},
   "outputs": [
    {
     "name": "stdout",
     "output_type": "stream",
     "text": [
      "Matricea extinsă: \n",
      "0.0\t4.0\t6.0\t9.0\t|  1.0\t0.0\t0.0\t0.0\t\n",
      "6.0\t4.0\t9.0\t9.0\t|  0.0\t1.0\t0.0\t0.0\t\n",
      "-4.0\t3.0\t-6.0\t9.0\t|  0.0\t0.0\t1.0\t0.0\t\n",
      "-10.0\t7.0\t-8.0\t1.0\t|  0.0\t0.0\t0.0\t1.0\t\n",
      "\n",
      "Inversa matricei B: \n",
      "[[-0.25842697  0.21027287  0.04735152  0.00722311]\n",
      " [-0.16853933  0.20545746 -0.0529695   0.14446228]\n",
      " [ 0.1835206  -0.08721241 -0.09470305 -0.01444623]\n",
      " [ 0.06367041 -0.03317282  0.08667737 -0.05457464]]\n"
     ]
    }
   ],
   "source": [
    "def pprint(A):\n",
    "    n = A.shape[0]\n",
    "    for i in range(0, n):\n",
    "        line = \"\"\n",
    "        for j in range(0, 2*n):\n",
    "            line += str(A[i][j]) + \"\\t\"\n",
    "            if j == n - 1:\n",
    "                line += \"|  \"\n",
    "        print(line)\n",
    "    print(\"\")\n",
    "\n",
    "# Verificam daca sistemul are solutii(determinantul matricei trebuie sa fie diferit de 0)\n",
    "if abs(np.linalg.det(B)) < 1e-5:\n",
    "    print(\"Determinantul matricei este null, prin urmare matricea nu este inversabila!\")\n",
    "else:\n",
    "    A = np.array([[0., 4., 6., 9.], [6. , 4., 9., 9.], [-4., 3., -6., 9.], [-10., 7, -8, 1]])\n",
    "    n = A.shape[0]\n",
    "    x = np.zeros(A.shape)\n",
    "    I = np.identity(n, dtype=float)\n",
    "\n",
    "    indices = np.arange(0, n)\n",
    "    A_extins = np.concatenate((A, I), axis = 1)\n",
    "    print('Matricea extinsă: ')\n",
    "    pprint(A_extins)\n",
    "    \n",
    "    # Aplicam Gauss cu pivotare partiala\n",
    "    for k in range(0, n-1):\n",
    "        p = np.argmax(np.abs(A_extins[k:, k])) + k\n",
    "        A_extins[[p,k]] = A_extins[[k,p]] \n",
    "        for l in range(k + 1, n):\n",
    "            A_extins[l] = A_extins[l] - (A_extins[l][k] / A_extins[k][k]) * A_extins[k]\n",
    "        \n",
    "    # Aducem matricea din partea stanga la forma matricei identitate, \n",
    "    # iar ce obtinem in partea dreapta va fi inversa matricei initiale   \n",
    "    for i in range(n-1, 0, -1):\n",
    "        A_extins[i] *= 1. / A_extins[i][i]\n",
    "        for j in range(i-1, -1, -1):\n",
    "            A_extins[j] = A_extins[j] - (A_extins[j][i] / A_extins[i][i]) * A_extins[i]\n",
    "    \n",
    "    A_extins[0] *= 1. / A_extins[0][0]\n",
    "   \n",
    "    print('Inversa matricei B: ')\n",
    "    print(A_extins[:,n:])"
   ]
  },
  {
   "cell_type": "markdown",
   "metadata": {},
   "source": [
    "3. Să se verifice dacă sistemul (3) admite soluție unică și în caz afirmativ să se determine soluția folosind factorizarea\n",
    "LU cu pivotare partială."
   ]
  },
  {
   "cell_type": "markdown",
   "metadata": {},
   "source": [
    "&emsp;&emsp;&emsp;&emsp;&emsp;&emsp;&emsp;&emsp;&emsp;&emsp;&emsp;&emsp;&emsp;&emsp;&emsp;&emsp;&emsp;&emsp;&emsp;&emsp;&emsp;\n",
    "$ \\begin{bmatrix} 0 & -4 & -4 & 5 \\\\ 5 & -7 & 9 & -4 \\\\ 0 & -1 & -10 & 9 \\\\ -6 & 6 & -5 & 3 \\end{bmatrix} x  = \\begin{bmatrix} -3 \\\\ 5 \\\\ 2 \\\\ 1 \\end{bmatrix}$ &emsp;&emsp;&emsp;&emsp;&emsp;&emsp;&emsp;&emsp;&emsp;&emsp;&emsp;&emsp;&emsp;&emsp;&emsp;&emsp; $ (3) $"
   ]
  },
  {
   "cell_type": "markdown",
   "metadata": {},
   "source": [
    "&emsp; Sistemul (3) este de forma $$ Ax=b $$ cu $ A \\in \\mathscr{M}_{4}(R) $ și $ b, x \\in R^{4}.$ <br>\n",
    "&emsp; Sistemul $ Ax = b $ este compatibil determinat, i.e. admite o soluție unică dacă și numai dacă $ rangA = rang\\overline{A} = 4$ (numărul necunoscutelor)."
   ]
  },
  {
   "cell_type": "code",
   "execution_count": 14,
   "metadata": {},
   "outputs": [
    {
     "name": "stdout",
     "output_type": "stream",
     "text": [
      "Sistemul este compatibil determinat.\n",
      "U: \n",
      " [[-6.          6.         -5.          3.        ]\n",
      " [ 0.         -4.         -4.          5.        ]\n",
      " [ 0.          0.         -9.          7.75      ]\n",
      " [ 0.          0.          0.          1.88425926]]\n",
      "L: \n",
      " [[ 1.          0.          0.          0.        ]\n",
      " [ 0.          1.          0.          0.        ]\n",
      " [ 0.          0.25        1.          0.        ]\n",
      " [-0.83333333  0.5        -0.75925926  1.        ]]\n",
      "\n",
      " P @ A == L @ U:\n",
      "[[ True  True  True  True]\n",
      " [ True  True  True  True]\n",
      " [ True  True  True  True]\n",
      " [ True  True  True  True]] \n",
      "\n",
      "x =  [2. 3. 4. 5.]\n",
      "A @ x =  [-3.  5.  2.  1.]\n"
     ]
    }
   ],
   "source": [
    "import numpy as np\n",
    "from copy import deepcopy\n",
    "\n",
    "A = np.array([[0., -4., -4., 5.], [5., -7., 9., -4.], [0., -1., -10., 9.], [-6., 6., -5., 3.]])\n",
    "b = np.array([[-3. , 5., 2., 1.]]).T\n",
    "A_extins = np.concatenate((A,b), axis = 1)\n",
    "P = np.identity(n)\n",
    "\n",
    "n = A.shape[0]\n",
    "x = np.zeros(n)\n",
    "\n",
    "\n",
    "# Calculul rangului unei matrice cu ajutorul metodei Gauss cu pivotare partiala\n",
    "def determina_rang(A, toleranta = 1e-5):\n",
    "    m, n = A.shape[0], A.shape[1]\n",
    "    \n",
    "    # Se initializeaza linia, coloana si rangul\n",
    "    l, c, rang = 0, 0, 0\n",
    "    while l < m and  c < n:\n",
    "        pivot = np.argmax(np.abs(A[l:,c])) + l\n",
    "        if np.abs(A[pivot][c]) < toleranta:\n",
    "            c = c + 1\n",
    "            continue\n",
    "        \n",
    "        if pivot != l:\n",
    "            A[[l,pivot]] = A[[pivot,l]]\n",
    "        \n",
    "        # Se elimina elementele sub pivot\n",
    "        for i in range(l+1,m):\n",
    "            const = A[i][c] / A[l][c]\n",
    "            A[i] = A[i] - const * A[l]\n",
    "        \n",
    "        l += 1 # Se avanseaza pe linii\n",
    "        c += 1 # Se avanseaza pe coloane\n",
    "        rang += 1 # Se creste rangul\n",
    "\n",
    "    return rang\n",
    "\n",
    "\n",
    "# Gauss cu pivotare partiala\n",
    "def factorizare(A):\n",
    "    U = np.copy(A) # matricea superior triunghiulara\n",
    "    L = np.zeros(A.shape) # matricea inferior triunghiulara\n",
    "    for k in range(0, n-1):\n",
    "        p = np.argmax(np.abs(U[k:,k]))\n",
    "        p = p + k\n",
    "        # interschimbam liniile p si k in U, P, L\n",
    "        U[[p,k]] = U[[k,p]]\n",
    "        P[[p,k]] = P[[k,p]] \n",
    "        L[[p,k]] = L[[k,p]]\n",
    "        for i in range(k + 1, n):\n",
    "            L[i][k] = U[i][k] / U[k][k]\n",
    "            U[i] = U[i] - (L[i][k] * U[k])\n",
    "    L += np.identity(n)\n",
    "    \n",
    "    print('U: \\n', U)\n",
    "    print('L: \\n', L)\n",
    "    print('\\n P @ A == L @ U:')\n",
    "    print( P @ A == L @ U, '\\n')\n",
    "    \n",
    "    return L, U\n",
    "\n",
    "\n",
    "# Metoda Substitutiei Ascendente\n",
    "def metoda_substitutiei_ascendente(L, C):\n",
    "    y = np.zeros(n)\n",
    "    for i in range(0, n):\n",
    "        y[i] = (C[i] - np.dot(L[i,:i+1], y[:i+1])) / L[i,i]\n",
    "    return y\n",
    "\n",
    "\n",
    "# Metoda Substitutiei Descendente\n",
    "def metoda_substitutiei_descendente(U, C):\n",
    "    x = np.zeros(n)\n",
    "    for i in range(n-1, -1, -1):\n",
    "        x[i] = (C[i] - np.dot(U[i,i+1:], x[i+1:])) / U[i][i]\n",
    "    return x\n",
    "\n",
    "\n",
    "if __name__ == \"__main__\":\n",
    "    rang_A = determina_rang(deepcopy(A))\n",
    "    rang_A_extins = determina_rang(deepcopy(A_extins))\n",
    "\n",
    "    if rang_A == rang_A_extins and rang_A == n:\n",
    "        print('Sistemul este compatibil determinat.')\n",
    "        L, U = factorizare(deepcopy(A)) # obtinem factorizarea LU a matricei A\n",
    "        \n",
    "        b = P @ b\n",
    "        y = metoda_substitutiei_ascendente(L, b)\n",
    "        x = metoda_substitutiei_descendente(U, y)\n",
    "        print('x = ', x)\n",
    "        print('A @ x = ', A@x)\n",
    "\n",
    "    elif rang_A != rang_A_extins:\n",
    "        print('Sistemul este incompatibil.')\n",
    "    else:\n",
    "        print('Sistemul este compatibil nedeterminat.')"
   ]
  },
  {
   "cell_type": "markdown",
   "metadata": {},
   "source": [
    "4. Să se verifice dacă matricea C admite factorizare Cholesky și în caz afirmativ să se determine aceasta."
   ]
  },
  {
   "cell_type": "markdown",
   "metadata": {},
   "source": [
    "&emsp;&emsp;&emsp;&emsp;&emsp;&emsp;&emsp;&emsp;&emsp;&emsp;&emsp;&emsp;&emsp;&emsp;&emsp;&emsp;&emsp;&emsp;&emsp;&emsp;&emsp;&emsp;&emsp;&emsp;&emsp;\n",
    " $ C = \\begin{bmatrix} 64 & 16 & 72 & -40 \\\\ 16 & 104 & -52 & 80 \\\\ 72 & -52 & 211 & -90 \\\\ -40 & 80 & -90 & 135 \\end{bmatrix} $ &emsp; &emsp; &emsp; &emsp; &emsp; &emsp; &emsp; &emsp; &emsp; &emsp; &emsp; &emsp; &emsp; &emsp; $ (4) $"
   ]
  },
  {
   "cell_type": "markdown",
   "metadata": {},
   "source": [
    "&emsp; Dacă $ C \\in \\mathscr{M}_4(\\mathbb{R}) $ este o matrice simetrică și pozitiv definită, atunci descompunerea Cholesky există. Se poate observa că $ C = C^{T} $. Întrucât C este simetrică, o condiție necesară și suficientă ca C să fie pozitiv definită, este ca toți minorii principali să fie pozitivi, i.e $ detA_k > 0, A_k = (a_{ij})_{i,j=\\overline{1,k}} $ ."
   ]
  },
  {
   "cell_type": "code",
   "execution_count": 15,
   "metadata": {},
   "outputs": [
    {
     "name": "stdout",
     "output_type": "stream",
     "text": [
      "Matricea este simetrica si pozitiv definita, deci C admite factorizarea Cholesky. \n",
      "\n",
      "L:\n",
      "[[ 8.  0.  0.  0.]\n",
      " [ 2. 10.  0.  0.]\n",
      " [ 9. -7.  9.  0.]\n",
      " [-5.  9.  2.  5.]]\n",
      "Transpusa matricei L: \n",
      "[[ 8.  2.  9. -5.]\n",
      " [ 0. 10. -7.  9.]\n",
      " [ 0.  0.  9.  2.]\n",
      " [ 0.  0.  0.  5.]]\n",
      "L @ L_transpus = C \n",
      "[[ True  True  True  True]\n",
      " [ True  True  True  True]\n",
      " [ True  True  True  True]\n",
      " [ True  True  True  True]]\n"
     ]
    }
   ],
   "source": [
    "from sys import exit\n",
    "import numpy as np\n",
    "from copy import deepcopy\n",
    "\n",
    "\n",
    "C = np.array([[64., 16., 72., -40.], [16., 104., -52., 80.], [72., -52., 211., -90.], [-40., 80., -90., 135.]])\n",
    "C_transpus = np.array([[64., 16., 72., -40.], [16., 104., -52., 80.], [72., -52., 211., -90.], [-40., 80., -90., 135.]]).T\n",
    "n = C.shape[0]\n",
    "\n",
    "\n",
    "def calculeaza_determinant(A):\n",
    "    # Aplicam metoda Gauss cu pivotare totala\n",
    "    m = A.shape[0]\n",
    "    indices = np.arange(0, m)\n",
    "    I = np.identity(m)\n",
    "    A_extins = np.concatenate((A, I), axis = 1)\n",
    "    s = 0 # numarul de schimbari de linii\n",
    "\n",
    "    for k in range(0, m - 1):\n",
    "        submatrice = A_extins[k:, k:m-1]\n",
    "        (l, c) = np.unravel_index(submatrice.argmax(), submatrice.shape)\n",
    "        l, c = l + k, c + k\n",
    "\n",
    "        if l != k:\n",
    "            s += 1\n",
    "\n",
    "        if c != k:\n",
    "            s += 1\n",
    "\n",
    "        # Daca p != k atunci interschimbam liniile p si k, iar daca m != k interschimbam coloanele m si k\n",
    "        A_extins[[l,k]] = A_extins[[k,l]]\n",
    "        A_extins[:, [k, c]] = A_extins[:, [c, k]]\n",
    "        # Schimbam indicii necunoscutelor\n",
    "        indices[c], indices[k] = indices[k], indices[c]\n",
    "\n",
    "        for i in range(k + 1, m):\n",
    "            A_extins[i] = A_extins[i] - (A_extins[i][k] / A_extins[k][k]) * A_extins[k]\n",
    "\n",
    "\n",
    "    U = np.copy(A_extins[0:n])\n",
    "\n",
    "    determinant = 1.\n",
    "    for i in range(m):\n",
    "        determinant *= U[i][i]\n",
    "\n",
    "    \"\"\"\n",
    "        Daca intr-o matrice patratica se schimba intre ele doua linii(sau coloane) se obtine o matrice care are\n",
    "        determinantul egal cu opusul determinantului matricei initiale\n",
    "    \"\"\"\n",
    "    determinant = (-1)**s * determinant\n",
    "    \n",
    "    return determinant\n",
    "\n",
    "\n",
    "def factorizare_Cholesky(A):\n",
    "    L = np.zeros(A.shape)\n",
    "    \n",
    "    alpha = A[0][0]\n",
    "    L[0][0] = alpha**0.5\n",
    "    for i in range(1,n):\n",
    "        L[i][0] = A[i][0] / L[0][0]\n",
    "        \n",
    "    for k in range(1,n):\n",
    "        alpha = A[k][k] - np.dot(L[k,:k], L[k,:k])\n",
    "        L[k][k] = alpha**0.5\n",
    "        \n",
    "        for i in range(k+1,n):\n",
    "            L[i][k] = (1.0 / L[k][k]) * (A[i][k] - np.dot(L[i,:k], L[k,:k]))\n",
    "        \n",
    "    return L\n",
    "\n",
    "\n",
    "if __name__ == \"__main__\":\n",
    "    \n",
    "    if C.any() != C_transpus.any():\n",
    "        print('Matricea nu este simetrica!')\n",
    "        exit(1)\n",
    "    \n",
    "    for k in range(n):\n",
    "        submatrice = deepcopy(C[:k+1][:k+1])\n",
    "        det = calculeaza_determinant(submatrice)\n",
    "        if det <= 0:\n",
    "            print('Matricea nu este pozitiv definita!')\n",
    "            exit(1)\n",
    "    \n",
    "    print('Matricea este simetrica si pozitiv definita, deci C admite factorizarea Cholesky. \\n')\n",
    "    L = factorizare_Cholesky(deepcopy(C))\n",
    "    L_transpus = L.T\n",
    "    print(\"L:\")\n",
    "    print(L)\n",
    "    print(\"Transpusa matricei L: \")\n",
    "    print(L_transpus)\n",
    "    print(\"L @ L_transpus = C \")\n",
    "    print(L @ L_transpus == C)"
   ]
  }
 ],
 "metadata": {
  "kernelspec": {
   "display_name": "Python 3",
   "language": "python",
   "name": "python3"
  },
  "language_info": {
   "codemirror_mode": {
    "name": "ipython",
    "version": 3
   },
   "file_extension": ".py",
   "mimetype": "text/x-python",
   "name": "python",
   "nbconvert_exporter": "python",
   "pygments_lexer": "ipython3",
   "version": "3.8.6"
  }
 },
 "nbformat": 4,
 "nbformat_minor": 4
}
