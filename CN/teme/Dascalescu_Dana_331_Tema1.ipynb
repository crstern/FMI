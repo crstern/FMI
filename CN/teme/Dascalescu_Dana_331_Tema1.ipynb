{
 "cells": [
  {
   "cell_type": "markdown",
   "metadata": {},
   "source": [
    "## Metode de aproximare a soluțiilor ecuațiilor neliniare"
   ]
  },
  {
   "cell_type": "markdown",
   "metadata": {},
   "source": [
    "1. Să se găsească o aproximare a valorii $\\sqrt{5}$ cu o precizie de 7 zecimale."
   ]
  },
  {
   "cell_type": "markdown",
   "metadata": {},
   "source": [
    "_Rezolvare:_ &nbsp; Definim o funcție $f$, $f : [a, b] ->$ ${\\rm I\\!R}$, $f$ continuă și $f(a) \\cdot f(b) < 0$, astfel încât una dintre rădăcini este egală cu $\\sqrt{5}$. Prin urmare, când se va aplica una dintre metodele de aproximare a soluțiilor ecuațiilor neliniare se va găsi rădăcina precizată. <br>\n",
    "&nbsp;&nbsp;&nbsp;&nbsp;&nbsp;&nbsp;&nbsp;&nbsp;&nbsp;&nbsp;&nbsp;&nbsp;&nbsp;&nbsp;&nbsp;&nbsp;&nbsp;&nbsp;&nbsp;\n",
    "    Fie $f : [1, 5] -> {\\rm I\\!R}$, $f(x) = x^2 - 5$. Soluția ecuației $f(x) = 0$ este $x = \\sqrt{5}$. Pentru a găsi soluția $x = \\sqrt{5}$ vom aplica Metoda Newton-Raphson. <br>\n",
    "&nbsp;&nbsp;&nbsp;&nbsp;&nbsp;&nbsp;&nbsp;&nbsp;&nbsp;&nbsp;&nbsp;&nbsp;&nbsp;&nbsp;&nbsp;&nbsp;&nbsp;&nbsp;&nbsp;\n",
    "$f \\in C^2([1, 5])$ $f'$, $f''$ nu se anulează pe $[1, 5]$ , $f(1) \\cdot f(5) < 0$, pentru $x_0 = 3$ are loc condiția $f(x_0) \\cdot f''(x_0) > 0$, prin urmare, conform Teoremei de Convergență,  $f(x)=0$ are o soluție unică $x^* \\in (1,5)$, iar șirul $(x_k)_{k\\geq0}$ construit prin Metoda Newton-Raphson, rămâne în $[1, 5]$ și converge pătratic la $x^*$. <br>"
   ]
  },
  {
   "cell_type": "code",
   "execution_count": 63,
   "metadata": {},
   "outputs": [
    {
     "name": "stdout",
     "output_type": "stream",
     "text": [
      "Aproximarea valorii sqrt(5) cu Metoda Newton-Rhapson este 2.23606797749979 efectuand 4 iteratii\n"
     ]
    }
   ],
   "source": [
    "from math import e\n",
    "\n",
    "def metoda_newton_raphson(f, f_derivat, a, b, x0, epsilon = 1e-5):\n",
    "    x_prev = x0\n",
    "    x = x0 - f(x0) / f_derivat(x0)\n",
    "\n",
    "    num_iterations = 0\n",
    "    while (abs(x - x_prev) / abs(x_prev)) >= epsilon:\n",
    "        x_prev = x\n",
    "        x = x_prev - f(x_prev) / f_derivat(x_prev)\n",
    "        num_iterations += 1\n",
    "\n",
    "    return x, num_iterations\n",
    "\n",
    "f = lambda x: x**2 - 5\n",
    "f_derivat = lambda x: 2 * x\n",
    "numar_iteratii = 0\n",
    "\n",
    "a, b = .1, 5.\n",
    "x0 = 3.\n",
    "epsilon = 1e-7\n",
    "val1, numar_iteratii = metoda_newton_raphson(f, f_derivat, a, b, x0, epsilon)\n",
    "print('Aproximarea valorii sqrt(5) cu Metoda Newton-Rhapson este {:.14f} efectuand {} iteratii'.format(val1, numar_iteratii))\n"
   ]
  },
  {
   "cell_type": "markdown",
   "metadata": {},
   "source": [
    "<br>2. Rezolvați numeric ecuația $e^{x−2} = \\cos(e^{x−2}) + 1$. Să se ilustreze grafic cele două funcții și punctul lor de intersecție."
   ]
  },
  {
   "cell_type": "markdown",
   "metadata": {},
   "source": [
    "_Rezolvare:_ &nbsp; Problema se reduce la a găsi soluția ecuației $e^{x - 2} - \\cos(e^{x - 2}) - 1 = 0$, care este punctul de intersecție a graficelor funcțiilor $f : {\\rm I\\!R} -> {\\rm I\\!R}, f(x) = e^{x−2}$ și $g : {\\rm I\\!R} -> [-1, 1], g(x) = \\cos(e^{x−2}) + 1$."
   ]
  },
  {
   "cell_type": "code",
   "execution_count": 1,
   "metadata": {},
   "outputs": [
    {
     "name": "stdout",
     "output_type": "stream",
     "text": [
      "Punctul de intersectie:  2.249535201085668\n"
     ]
    },
    {
     "data": {
      "image/png": "[encoded data removed]",
      "text/plain": [
       "<Figure size 432x288 with 1 Axes>"
      ]
     },
     "metadata": {
      "needs_background": "light"
     },
     "output_type": "display_data"
    }
   ],
   "source": [
    "from math import cos, sin, exp, pi, e\n",
    "import matplotlib.pyplot as plt\n",
    "import numpy as np\n",
    "\n",
    "\n",
    "def metoda_bisectiei(f, a, b, epsilon = 1e-5):\n",
    "    assert f(a) * f(b) < 0, \"E posibil sa nu existe solutii\" \n",
    "\n",
    "    # Pasul 1: Calculam prima estimare, x0 si numarul necesar de iteratii\n",
    "    x_num = (a + b) / 2 # aproximarea solutiei x* a functiei f\n",
    "    num_iterations = floor(log2((b - a) / epsilon) - 1) # criteriul de oprire\n",
    "\n",
    "    \"\"\" \n",
    "      Pasul 2: La fiecare iteratie i se va injumatati intervalul notat prin [Ai-1, Bi-1] si se va selecta noul\n",
    "      interval [Ai, Bi] in care se afla x*, unde x* verifica ecuatia f(x*) = 0.\n",
    "    \"\"\"\n",
    "    num_iter = 0\n",
    "    for i in range(1, num_iterations):\n",
    "        num_iter = i\n",
    "        if f(x_num) == 0:\n",
    "            break\n",
    "        elif f(a) * f(x_num) < 0:\n",
    "            b = x_num\n",
    "        else:\n",
    "            a = x_num\n",
    "\n",
    "        x_num = (a - b) / 2\n",
    "    \n",
    "    return x_num, num_iter\n",
    "\n",
    "\n",
    "\n",
    "def metoda_secantei(f, a, b, x0, x1, epsilon = 1e-5):\n",
    "    x_prev1, x_prev2 = x0, x1\n",
    "    x = (x_prev2 * f(x_prev1) - x_prev1 * f(x_prev2)) / (f(x_prev1) - f(x_prev2))\n",
    "\n",
    "    num_iterations = 0\n",
    "    while (abs(x - x_prev1) / abs(x - x_prev2)) >= epsilon:\n",
    "        num_iterations += 1\n",
    "        x_prev2 = x_prev1\n",
    "        x_prev1 = x\n",
    "        x = (x_prev2 * f(x_prev1) - x_prev1 * f(x_prev2)) / (f(x_prev1) - f(x_prev2))\n",
    "\n",
    "        if x < a:\n",
    "            print(\"Introduceti alte valori pentru x0, x1\")\n",
    "            break\n",
    "        if x > b:\n",
    "            print( \"Introduceti alte valori pentru x0, x1\")\n",
    "            break\n",
    "\n",
    "    return x, num_iterations\n",
    "\n",
    "f = lambda x: exp(x - 2) - cos(exp(x - 2)) - 1\n",
    "g = lambda x: e ** (x - 2)\n",
    "h = lambda x: cos(e ** (x - 2)) + 1\n",
    "h = np.vectorize(h)\n",
    "\n",
    "a, b = 1.5, 2.5\n",
    "x0, x1 = 1.8, 2.1\n",
    "x_coordinate, num_iter = metoda_secantei(f, a, b, x0, x1, 1e-7)\n",
    "y_coordinate = g(x_coordinate)\n",
    "print(\"Punctul de intersectie: \", x_coordinate)\n",
    "\n",
    "\n",
    "axis_Ox  = np.linspace(-2 * pi, 2 * pi, 500)\n",
    "axis_Oy1 = g(axis_Ox)\n",
    "axis_Oy2 = h(axis_Ox)\n",
    "\n",
    "plt.figure(0)\n",
    "plt.plot(axis_Ox, axis_Oy1)\n",
    "plt.plot(axis_Ox, axis_Oy2)\n",
    "plt.scatter(x_coordinate, y_coordinate, c=\"red\", s=72, alpha=1)\n",
    "plt.show()"
   ]
  },
  {
   "cell_type": "markdown",
   "metadata": {},
   "source": [
    "<br> 3. _Rezolvare:_ &nbsp; Pentru alegerea celor trei subintervale, astfel încât metoda secantei să fie convergentă, \n",
    "        mai întâi calculăm punctele de minim și de maxim(i.e punctele în care derivata se anulează) și cele de inflexiune. În cazul nostru, $f'=3x^2 + 6x - 10$, iar soluțiile ecuației $3x^2 + 6x - 10 = 0$ sunt $x_{1,2} = \\frac{(-6 \\pm \\sqrt(156))}{6}$, de unde rezultă că $x_{1,2}$ sunt punctele în care derivata de ordinul I se anulează. $f'' = 6x + 6$, iar soluția ecuației $6x + 6 = 0$ este $x_3 = -1$, de unde rezultă că punctul în care derivata de ordinul II se anulează este $x_3 = -1$. <br>\n",
    "&nbsp;&nbsp;&nbsp;&nbsp;&nbsp;&nbsp;&nbsp;&nbsp;&nbsp;&nbsp;&nbsp;&nbsp;&nbsp;&nbsp;&nbsp;&nbsp;&nbsp;&nbsp;&nbsp;\n",
    "        Cele trei subintervale de forma $[a,b]$ au fost alese astfel încât să respecte ipoteza Teoremei de Convergență a Metodei Poziției False: $f(a) \\cdot f(b) < 0$ și $f'$, $f''$ nu se anuleaza pe $[a, b]$."
   ]
  },
  {
   "cell_type": "code",
   "execution_count": 65,
   "metadata": {},
   "outputs": [
    {
     "name": "stdout",
     "output_type": "stream",
     "text": [
      "Solutiile ecuatiei sunt:  -4.999995951115848 0.0 1.9999895478495098\n"
     ]
    },
    {
     "data": {
      "image/png": "[encoded data removed]",
      "text/plain": [
       "<Figure size 432x288 with 1 Axes>"
      ]
     },
     "metadata": {
      "needs_background": "light"
     },
     "output_type": "display_data"
    }
   ],
   "source": [
    "from math import e, sqrt\n",
    "import matplotlib.pyplot as plt\n",
    "import numpy as np\n",
    "\n",
    "\n",
    "def metoda_pozitiei_false(f, a, b, x0, epsilon = 1e-5):\n",
    "    x_prev = x0\n",
    "    x = (a * f(b) - b * f(a)) / (f(b) - f(a))\n",
    "\n",
    "    num_iterations = 0\n",
    "    while (abs(x - x_prev) / abs(x_prev)) >= epsilon:\n",
    "        num_iterations += 1\n",
    "        if f(x) == 0:\n",
    "            break\n",
    "        elif f(a) * f(x) < 0:\n",
    "            b = x\n",
    "        else:\n",
    "            a = x\n",
    "\n",
    "        x_prev = x\n",
    "        x = (a * f(b) - b * f(a)) / (f(b) - f(a))\n",
    "    \n",
    "    return x, num_iterations\n",
    "\n",
    "\n",
    "\n",
    "f = lambda x: x**3 + 3 * x**2 - 10 * x\n",
    "\n",
    "a, b = -5.5, (-6 - 156**(1/2)) / 6 - 0.5\n",
    "x0 = -4.\n",
    "x_num1, num_iter = metoda_pozitiei_false(f, a, b, x0)\n",
    "\n",
    "a, b = -.9, (-6 + 156**(1/2)) / 6 - 0.2\n",
    "x0 = -.8\n",
    "x_num2, num_iter = metoda_pozitiei_false(f, a, b, x0)\n",
    "\n",
    "a, b = (-6 + 156**(1/2)) / 6 + 0.28, 3.2\n",
    "x0 = 3.\n",
    "x_num3, num_iter = metoda_pozitiei_false(f, a, b, x0)\n",
    "\n",
    "print('Solutiile ecuatiei sunt: ', x_num1, x_num2, x_num3)\n",
    "\n",
    "axis_Ox = np.linspace(-5., 5., num=1000)\n",
    "axis_Oy = f(axis_Ox)\n",
    "\n",
    "x_coordinates = [x_num1, x_num2, x_num3]\n",
    "y_coordinates = [f(x_num1), f(x_num2), f(x_num3)]\n",
    "\n",
    "plt.figure(0)\n",
    "plt.title('Metoda Pozitiei False')\n",
    "plt.legend(['f(x)', 'x_num'])\n",
    "\n",
    "# Plotam punctele de inflexiune, de minim global si maxim local\n",
    "plt.annotate('Punct de inflexiune', xy=(-1, 12), xytext=(0.3, 64),\n",
    "         arrowprops=dict(width=3, facecolor='black', shrink=0.05),\n",
    "         )\n",
    "plt.scatter(-1, 12, c=\"blue\", alpha=1)\n",
    "\n",
    "x1, y1 = (-6 - sqrt(156)) / 6, f((-6 - sqrt(156)) / 6)\n",
    "plt.annotate('Maxim local', xy=(x1, y1), xytext=(-3, 68),\n",
    "         arrowprops=dict(width=3, facecolor='black', shrink=0.05),\n",
    "         )\n",
    "plt.scatter(x1, y1, c=\"blue\", alpha=1)\n",
    "\n",
    "x2, y2 = (-6 + sqrt(156)) / 6, f((-6 + sqrt(156)) / 6)\n",
    "plt.annotate('Minim global', xy=(x2, y2), xytext=(1, 32),\n",
    "         arrowprops=dict(width=3, facecolor='black', shrink=0.05),\n",
    "         )\n",
    "plt.scatter(x2, y2, c=\"blue\", alpha=1)\n",
    "\n",
    "\n",
    "plt.axvline(0, c='black')\n",
    "plt.axhline(0, c='black')\n",
    "\n",
    "plt.xlabel('x') \n",
    "plt.ylabel('y')\n",
    "\n",
    "plt.plot(axis_Ox, axis_Oy, c=\"black\", linestyle=\"-\", linewidth=2)\n",
    "plt.scatter(x_coordinates, y_coordinates, c=\"red\", alpha=1)\n",
    "plt.show()"
   ]
  },
  {
   "cell_type": "markdown",
   "metadata": {},
   "source": [
    "<br> 4. _Rezolvare:_ &nbsp; Fie $f : [-6, 3] ->{\\rm I\\!R}, f(x) = x^3 - 7x + 6$. Avem că $f \\in C'([-6,3])$, $f(a)\\cdot f(b) < 0$ și $f'(x) \\neq 0$, $\\forall x \\in [-6, 3]$.<br>\n",
    "&nbsp;&nbsp;&nbsp;&nbsp;&nbsp;&nbsp;&nbsp;&nbsp;&nbsp;&nbsp;&nbsp;&nbsp;&nbsp;&nbsp;&nbsp;&nbsp;&nbsp;&nbsp;&nbsp;&nbsp;&nbsp;\n",
    "Pentru alegerea celor trei subintervale, astfel încat Metoda Secantei să fie convergentă, mai întâi calculăm punctele de minim și de maxim(i.e punctele în care derivata se anulează). În cazul nostru, derivata de ordinul I este $3x^2-7$ iar punctele în care derivata se anulează sunt $x_{1,2} = \\pm\\sqrt(\\frac{7}{3})$.<br>\n",
    "&nbsp;&nbsp;&nbsp;&nbsp;&nbsp;&nbsp;&nbsp;&nbsp;&nbsp;&nbsp;&nbsp;&nbsp;&nbsp;&nbsp;&nbsp;&nbsp;&nbsp;&nbsp;&nbsp;&nbsp;&nbsp;\n",
    "        Intervalele alese sunt $[-4, -\\sqrt(\\frac{7}{3}) - 0.1]$, $[-\\sqrt(\\frac{7}{3}) + 0.1, \\sqrt(\\frac{7}{3}) - 0.1]$, $[\\sqrt(\\frac{7}{3}) + 0.1, 3]$."
   ]
  },
  {
   "cell_type": "code",
   "execution_count": 66,
   "metadata": {},
   "outputs": [
    {
     "name": "stdout",
     "output_type": "stream",
     "text": [
      "Solutiile ecuatiei sunt:  -3.0 1.0 2.0\n"
     ]
    },
    {
     "data": {
      "image/png": "[encoded data removed]",
      "text/plain": [
       "<Figure size 432x288 with 1 Axes>"
      ]
     },
     "metadata": {
      "needs_background": "light"
     },
     "output_type": "display_data"
    }
   ],
   "source": [
    "from math import e\n",
    "import matplotlib.pyplot as plt\n",
    "import numpy as np\n",
    "\n",
    "\n",
    "def metoda_secantei(f, a, b, x0, x1, epsilon = 1e-5):\n",
    "    x_prev1, x_prev2 = x0, x1\n",
    "    x = (x_prev2 * f(x_prev1) - x_prev1 * f(x_prev2)) / (f(x_prev1) - f(x_prev2))\n",
    "\n",
    "    num_iterations = 0\n",
    "    while (abs(x - x_prev1) / abs(x - x_prev2)) >= epsilon:\n",
    "        num_iterations += 1\n",
    "        x_prev2 = x_prev1\n",
    "        x_prev1 = x\n",
    "        x = (x_prev2 * f(x_prev1) - x_prev1 * f(x_prev2)) / (f(x_prev1) - f(x_prev2))\n",
    "\n",
    "        if x < a:\n",
    "            print(\"Introduceti alte valori pentru x0, x1\")\n",
    "            break\n",
    "        if x > b:\n",
    "            print( \"Introduceti alte valori pentru x0, x1\")\n",
    "            break\n",
    "\n",
    "    return x, num_iterations\n",
    "\n",
    "\n",
    "\n",
    "f = lambda x: x**3 - 7 * x + 6\n",
    "\n",
    "a, b = -5, -(7/3)**(1/2) - 0.1\n",
    "x0, x1 = -3.5, -2.5\n",
    "x_num1, num_iter1 = metoda_secantei(f, a, b, x0, x1)\n",
    "# print('x1:', x_num1, '\\n', 'Numar iteratii: ',  num_iter, '\\n')\n",
    "\n",
    "a, b = -(7/3)**(1/2) + 0.1, (7/3)**(1/2) - 0.1\n",
    "x0, x1 = -0.75, 0.75\n",
    "x_num2, num_iter2 = metoda_secantei(f, a, b, x0, x1)\n",
    "# print('x2:', x_num2, '\\n', 'Numar iteratii: ',  num_iter, '\\n')\n",
    "\n",
    "a, b = (7/3)**(1/2) + 0.1, 3\n",
    "x0, x1 = 1.6, 2.6\n",
    "x_num3, num_iter3 = metoda_secantei(f, a, b, x0, x1)\n",
    "# print('x3:', x_num3, '\\n', 'Numar iteratii:',  num_iter, '\\n')\n",
    "print('Solutiile ecuatiei sunt: ', x_num1, x_num2, x_num3)\n",
    "\n",
    "axis_Ox = np.linspace(-3., 3., num=500)\n",
    "axis_Oy = f(axis_Ox)\n",
    "\n",
    "x_coordinates = [x_num1, x_num2, x_num3]\n",
    "y_coordinates = [f(x_num1), f(x_num2), f(x_num3)]\n",
    "\n",
    "plt.figure(0)\n",
    "plt.title('Metoda Secantei')\n",
    "plt.legend(['f(x)', 'x_num'])\n",
    "\n",
    "plt.axvline(0, c='black')\n",
    "plt.axhline(0, c='black')\n",
    "\n",
    "plt.xlabel('x') \n",
    "plt.ylabel('y')\n",
    "\n",
    "plt.plot(axis_Ox, axis_Oy, c=\"black\", linestyle=\"-\", linewidth=2)\n",
    "plt.scatter(x_coordinates, y_coordinates, c=\"red\", alpha=1)\n",
    "plt.show()"
   ]
  }
 ],
 "metadata": {
  "kernelspec": {
   "display_name": "Python 3",
   "language": "python",
   "name": "python3"
  },
  "language_info": {
   "codemirror_mode": {
    "name": "ipython",
    "version": 3
   },
   "file_extension": ".py",
   "mimetype": "text/x-python",
   "name": "python",
   "nbconvert_exporter": "python",
   "pygments_lexer": "ipython3",
   "version": "3.8.6"
  }
 },
 "nbformat": 4,
 "nbformat_minor": 4
}
