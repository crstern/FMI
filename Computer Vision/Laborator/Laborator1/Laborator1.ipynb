{
 "cells": [
  {
   "cell_type": "markdown",
   "metadata": {},
   "source": [
    "# Laborator I"
   ]
  },
  {
   "cell_type": "code",
   "execution_count": 1,
   "metadata": {},
   "outputs": [],
   "source": [
    "import cv2 as cv\n",
    "import numpy as np\n",
    "import matplotlib.pyplot as plt\n",
    "import copy"
   ]
  },
  {
   "cell_type": "markdown",
   "metadata": {},
   "source": [
    "**Citirea unei imagini color**"
   ]
  },
  {
   "cell_type": "code",
   "execution_count": 2,
   "metadata": {},
   "outputs": [],
   "source": [
    "image = cv.imread(\"C:\\\\Users\\\\Dana\\\\Desktop\\\\University\\\\Anul 3\\\\CV\\\\Laborator1_materiale\\\\butterfly.jpeg\")\n",
    "print(\"Dimensiunea variabilei: \", image.shape)"
   ]
  },
  {
   "cell_type": "markdown",
   "metadata": {},
   "source": [
    "Variabila *image* este de tipul numpy-array uint8. Dimensiunea variabilei este de H, W, 3, unde H este înălțimea imaginii, W este lățimea imaginii, iar 3 reprezintă numărul de coloane RGB."
   ]
  },
  {
   "cell_type": "markdown",
   "metadata": {},
   "source": [
    "**Citirea unei imagini în tonuri de gri**"
   ]
  },
  {
   "cell_type": "code",
   "execution_count": 3,
   "metadata": {},
   "outputs": [],
   "source": [
    "image = cv.imread(\"C:\\\\Users\\\\Dana\\\\Desktop\\\\University\\\\Anul 3\\\\CV\\\\Laborator1_materiale\\\\butterfly.jpeg\", cv.IMREAD_GRAYSCALE)\n",
    "print(\"Dimensiunea variabilei: \", image.shape)"
   ]
  },
  {
   "cell_type": "markdown",
   "metadata": {},
   "source": [
    "Dimensiunea variabilei este de: H, W."
   ]
  },
  {
   "cell_type": "markdown",
   "metadata": {},
   "source": [
    "**Afișarea unei imagini**"
   ]
  },
  {
   "cell_type": "code",
   "execution_count": 4,
   "metadata": {},
   "outputs": [],
   "source": [
    "cv.imshow('Butterfly GRAYSCALE', image)\n",
    "cv.waitKey(0) # se asteapta apasarea unei taste\n",
    "cv.destroyAllWindows() # se inchide fereastra"
   ]
  },
  {
   "cell_type": "markdown",
   "metadata": {},
   "source": [
    "**Operații cu o matrice de intensități**"
   ]
  },
  {
   "cell_type": "markdown",
   "metadata": {},
   "source": [
    "Fie *img* un numpy-array 100x100 de tipul uint8 obținută astfel:"
   ]
  },
  {
   "cell_type": "code",
   "execution_count": 5,
   "metadata": {},
   "outputs": [],
   "source": [
    "path = \"C:\\\\Users\\\\Dana\\\\Desktop\\\\University\\\\Anul 3\\\\CV\\\\Laborator1_materiale\\\\\"\n",
    "\n",
    "img = cv.resize(cv.cvtColor((cv.imread(path+\"football.jpg\")), cv.COLOR_BGR2GRAY), (100, 100))\n",
    "H, W = img.shape\n",
    "\n",
    "cv.imshow('Football GRAYSCALE', img)\n",
    "cv.waitKey(0)\n",
    "cv.destroyAllWindows()"
   ]
  },
  {
   "cell_type": "markdown",
   "metadata": {},
   "source": [
    "ce corespunde unei imagini de intensități."
   ]
  },
  {
   "cell_type": "markdown",
   "metadata": {},
   "source": [
    "#### Cerințe:"
   ]
  },
  {
   "cell_type": "markdown",
   "metadata": {},
   "source": [
    "a) Sortați elementele/intensitățile din matricea img, punând elementele sortate în vectorul coloana x de dimensiuni 10000 x 1. Plotați apoi valorile din x( ca funcție de indecșii lui x, folosind librăria Matplotlib)."
   ]
  },
  {
   "cell_type": "code",
   "execution_count": 6,
   "metadata": {},
   "outputs": [
    {
     "data": {
      "image/png": "[encoded data removed]",
      "text/plain": [
       "<Figure size 432x288 with 1 Axes>"
      ]
     },
     "metadata": {
      "needs_background": "light"
     },
     "output_type": "display_data"
    }
   ],
   "source": [
    "x = np.sort(img.flatten())\n",
    "plt.plot(np.arange(len(x)), x)\n",
    "plt.show()"
   ]
  },
  {
   "cell_type": "markdown",
   "metadata": {},
   "source": [
    "<br> b)Afișați submatricea din *img* de dimensiuni 50 × 50 care corespunde sfertului matricei *img* din partea dreapta-jos."
   ]
  },
  {
   "cell_type": "code",
   "execution_count": 7,
   "metadata": {},
   "outputs": [],
   "source": [
    "A = copy.deepcopy(img[50:,50:])\n",
    "cv.imshow('Submatricea dreapta jos', A)\n",
    "cv.waitKey(0)\n",
    "cv.destroyAllWindows()"
   ]
  },
  {
   "cell_type": "markdown",
   "metadata": {},
   "source": [
    "<br> c) Aflați pragul de intensitate *t* cu proprietatea următoare: jumătate din elementele matricei *img* au o valoare ≤ *t*."
   ]
  },
  {
   "cell_type": "code",
   "execution_count": 8,
   "metadata": {},
   "outputs": [
    {
     "name": "stdout",
     "output_type": "stream",
     "text": [
      "65.0\n"
     ]
    }
   ],
   "source": [
    "t = np.median(x)\n",
    "print(t)"
   ]
  },
  {
   "cell_type": "markdown",
   "metadata": {},
   "source": [
    "<br> d) Creați și afișați matricea/imaginea B, de aceleași dimensiuni ca matricea *img* obținută din *img* astfel: fiecare pixel din B are culoarea albă (intensitate = 255) dacă pixelul corespunzător din *img* are intensitate $\\geq$ t, altfel are culoarea neagră (intensitate = 0)."
   ]
  },
  {
   "cell_type": "code",
   "execution_count": 9,
   "metadata": {},
   "outputs": [],
   "source": [
    "B = copy.deepcopy(img)\n",
    "B[B < t] = 0\n",
    "B[B >= t] = 255\n",
    "cv.imshow('Imaginea B', B)\n",
    "cv.waitKey(0)\n",
    "cv.destroyAllWindows()"
   ]
  },
  {
   "cell_type": "markdown",
   "metadata": {},
   "source": [
    "<br> e) Creați și afișați matricea/imaginea C, de aceleași dimensiuni ca matricea *img* obținută din *img* astfel: fiecare pixel din C are intensitatea egală cu pixelul corespunzător din *img* din care se scade intensitatea medie a imaginii *img*; pixelii astfel obținuți cu intensitatea < 0 vor fi setați ca având intensitatea egală cu 0."
   ]
  },
  {
   "cell_type": "code",
   "execution_count": 10,
   "metadata": {},
   "outputs": [
    {
     "name": "stdout",
     "output_type": "stream",
     "text": [
      "Intensitatea medie este 74.2772 (float64)\n",
      "Intensitatea minima(inainte de transformare):  19\n",
      "Intensitatea maxima(inainte de transformare):  254\n",
      "Intensitatea minima:  0\n",
      "Intensitatea maxima:  179\n"
     ]
    }
   ],
   "source": [
    "intensitatea_medie = img.mean()\n",
    "print('Intensitatea medie este {} ({})'.format(intensitatea_medie, intensitatea_medie.dtype))\n",
    "C = copy.deepcopy(img)\n",
    "print('Intensitatea minima(inainte de transformare): ', C.min())\n",
    "print('Intensitatea maxima(inainte de transformare): ', C.max())\n",
    "C = C - intensitatea_medie\n",
    "C[C < 0] = 0\n",
    "C = np.uint8(C)\n",
    "print('Intensitatea minima: ', C.min())\n",
    "print('Intensitatea maxima: ', C.max())\n",
    "cv.imshow('Imaginea C', C)\n",
    "cv.waitKey(0)\n",
    "cv.destroyAllWindows()"
   ]
  },
  {
   "cell_type": "markdown",
   "metadata": {},
   "source": [
    "<br> f) Aflați valoarea minimă (np.min) a intensități și afișați pozițiile în care apare în *img*."
   ]
  },
  {
   "cell_type": "code",
   "execution_count": 11,
   "metadata": {},
   "outputs": [
    {
     "name": "stdout",
     "output_type": "stream",
     "text": [
      "[76 88] [68 50]\n"
     ]
    }
   ],
   "source": [
    "intensitate_minima = img.min()\n",
    "linie,coloana = np.where(img == intensitate_minima)\n",
    "print(linie, coloana)"
   ]
  },
  {
   "cell_type": "markdown",
   "metadata": {},
   "source": [
    "### Imaginea medie a unei colecții de imagini"
   ]
  },
  {
   "cell_type": "markdown",
   "metadata": {},
   "source": [
    "O colecție de imagini similare poate fi descrisă de imaginea sa medie."
   ]
  },
  {
   "cell_type": "markdown",
   "metadata": {},
   "source": [
    "Scrieți o funcție Python care, pentru o colecție de imagini dată, realizează următoarele:\n",
    "* calculează imaginea medie color a colecției\n",
    "* calculează imaginea medie de intensitate a colecției\n",
    "* calculează matricea X, fiecare element X[i,j] al matricei reprezintă deviația standard a intensităților pixelilor (i,j) din imaginile de intensitate corespunzătoare imaginilor colecției\n",
    "* afișează cele trei imagini (img_color, img_gray, X) calculate"
   ]
  },
  {
   "cell_type": "code",
   "execution_count": 12,
   "metadata": {},
   "outputs": [],
   "source": [
    "import os\n",
    "\n",
    "dir_path = \"C:\\\\Users\\\\Dana\\\\Desktop\\\\University\\\\Anul 3\\\\CV\\\\Laborator1_materiale\\\\colectiiImagini\\\\colectiiImagini\\\\\"\n",
    "\n",
    "def colectii_imagini(dir_path):\n",
    "    img_names = os.listdir(dir_path)\n",
    "    color_images, gray_images = [], []\n",
    "    \n",
    "    for image_name in img_names:\n",
    "        img_color_current = cv.imread(dir_path + image_name)\n",
    "        color_images.append(img_color_current)\n",
    "        img_gray_current = cv.cvtColor(img_color_current, cv.COLOR_BGR2GRAY)\n",
    "        gray_images.append(img_gray_current)\n",
    "        \n",
    "    color_images = np.array(color_images)\n",
    "    gray_images = np.array(gray_images)\n",
    "        \n",
    "    mean_color_image = np.uint8(np.mean(color_images, axis=0))\n",
    "    mean_intensity_image = np.uint8(np.mean(gray_images, axis=0))\n",
    "    X = np.uint8(np.std(gray_images, axis=0))\n",
    "    \n",
    "    cv.imshow('Imaginea medie color a colectiei', mean_color_image)\n",
    "    cv.waitKey(8000)\n",
    "    cv.destroyAllWindows()\n",
    "    \n",
    "    cv.imshow('Imaginea medie de intensitate a colectiei', mean_intensity_image)\n",
    "    cv.waitKey(8000)\n",
    "    cv.destroyAllWindows()\n",
    "    \n",
    "    cv.imshow('Deviatia standard', X)\n",
    "    cv.waitKey(8000)\n",
    "    cv.destroyAllWindows()\n",
    "        \n",
    "        \n",
    "colectii_imagini(dir_path + \"set2\\\\\")"
   ]
  },
  {
   "cell_type": "markdown",
   "metadata": {},
   "source": [
    "### Modificarea unei imagini"
   ]
  },
  {
   "cell_type": "markdown",
   "metadata": {},
   "source": [
    "Citiți imaginea *butterfly.jpeg* în variabila *img*. Extrageți 500 de sub-imagini de dimensiune $20 x 20$ din poziții aleatorii ale imaginii *img*. Modificați porțiunea din imagine care are colțul stang-sus în poziția (250,250) cu cea mai apropiată sub-imagine (din cele 500) conform distanței $L_2$. Salvați imaginea obținută."
   ]
  },
  {
   "cell_type": "code",
   "execution_count": 37,
   "metadata": {},
   "outputs": [
    {
     "data": {
      "text/plain": [
       "True"
      ]
     },
     "execution_count": 37,
     "metadata": {},
     "output_type": "execute_result"
    }
   ],
   "source": [
    "img = cv.imread(\"C:\\\\Users\\\\Dana\\\\Desktop\\\\University\\\\Anul 3\\\\CV\\\\Laborator1_materiale\\\\butterfly.jpeg\")\n",
    "H, W, c = img.shape\n",
    "\n",
    "nb_images = 500\n",
    "window_size = 20\n",
    "# coltul din stanga sus e parametrizat de (y,x)\n",
    "y = np.random.randint(0, H - window_size + 1, size=(nb_images,))\n",
    "x = np.random.randint(0, W - window_size + 1, size=(nb_images,))\n",
    "\n",
    "img_crop = img[250:250+window_size,250:250+window_size,:].copy()\n",
    "\n",
    "distances = np.zeros(nb_images)\n",
    "for i in range(0, nb_images):\n",
    "    image_window = img[y[i]:y[i]+window_size,x[i]:x[i]+window_size,:].copy()\n",
    "    # distanta L2\n",
    "    distances[i] = np.sqrt(np.sum((np.float32(img_crop) - np.float32(image_window))**2))\n",
    "\n",
    "idx = distances.argmin()\n",
    "image_reconstructed = img.copy()\n",
    "image_reconstructed[250:250+window_size,250:250+window_size,:] = img[y[idx]:y[idx]+window_size,x[idx]:x[idx]+window_size,:]\n",
    "\n",
    "cv.imshow('Image reconstructed', image_reconstructed)\n",
    "cv.waitKey(0)\n",
    "cv.destroyAllWindows()\n",
    "cv.imwrite(\"C:\\\\Users\\\\Dana\\\\Desktop\\\\University\\\\Anul 3\\\\CV\\\\Laborator1_materiale\\\\butterfly_reconstructed.jpeg\", image_reconstructed)"
   ]
  }
 ],
 "metadata": {
  "kernelspec": {
   "display_name": "Python 3",
   "language": "python",
   "name": "python3"
  },
  "language_info": {
   "codemirror_mode": {
    "name": "ipython",
    "version": 3
   },
   "file_extension": ".py",
   "mimetype": "text/x-python",
   "name": "python",
   "nbconvert_exporter": "python",
   "pygments_lexer": "ipython3",
   "version": "3.8.6"
  }
 },
 "nbformat": 4,
 "nbformat_minor": 4
}
